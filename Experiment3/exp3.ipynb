{
 "cells": [
  {
   "cell_type": "code",
   "execution_count": 3,
   "metadata": {},
   "outputs": [],
   "source": [
    "from sklearn import tree\n",
    "from sklearn.datasets import load_wine\n",
    "from sklearn.model_selection import train_test_split\n",
    "from sklearn import metrics\n",
    "import matplotlib.pyplot as plt\n",
    "import numpy as np\n",
    "import pandas as pd\n",
    "import seaborn as sns"
   ]
  },
  {
   "cell_type": "code",
   "execution_count": 4,
   "metadata": {},
   "outputs": [],
   "source": [
    "wine_dataset = load_wine()"
   ]
  },
  {
   "cell_type": "code",
   "execution_count": 5,
   "metadata": {},
   "outputs": [],
   "source": [
    "x_train, x_test, y_train, y_test = train_test_split(wine_dataset.data, wine_dataset.target, test_size=0.3)"
   ]
  },
  {
   "cell_type": "code",
   "execution_count": 17,
   "metadata": {},
   "outputs": [
    {
     "name": "stdout",
     "output_type": "stream",
     "text": [
      "[0.01922559 0.         0.         0.         0.         0.\n",
      " 0.04337965 0.         0.         0.2103984  0.01410936 0.4293692\n",
      " 0.2835178 ]\n",
      "Classification Score:  0.9444444444444444\n"
     ]
    }
   ],
   "source": [
    "classification = tree.DecisionTreeClassifier(criterion='entropy')\n",
    "classification.fit(x_train, y_train)\n",
    "classification_score = classification.score(x_test, y_test)\n",
    "print(classification.feature_importances_)\n",
    "print('Classification Score: ', classification_score)"
   ]
  },
  {
   "cell_type": "code",
   "execution_count": 22,
   "metadata": {},
   "outputs": [
    {
     "name": "stdout",
     "output_type": "stream",
     "text": [
      "[0.01950073 0.         0.         0.         0.         0.\n",
      " 0.42120274 0.         0.         0.23747458 0.03424664 0.\n",
      " 0.2875753 ]\n",
      "Classification Score:  0.9629629629629629\n"
     ]
    }
   ],
   "source": [
    "classification = tree.DecisionTreeClassifier(criterion=\"entropy\", max_depth=3)\n",
    "classification.fit(x_train, y_train)\n",
    "classification_score = classification.score(x_test, y_test)\n",
    "print(classification.feature_importances_)\n",
    "print('Classification Score: ', classification_score)"
   ]
  }
 ],
 "metadata": {
  "kernelspec": {
   "display_name": "Python 3",
   "language": "python",
   "name": "python3"
  },
  "language_info": {
   "codemirror_mode": {
    "name": "ipython",
    "version": 3
   },
   "file_extension": ".py",
   "mimetype": "text/x-python",
   "name": "python",
   "nbconvert_exporter": "python",
   "pygments_lexer": "ipython3",
   "version": "3.12.6"
  }
 },
 "nbformat": 4,
 "nbformat_minor": 2
}
